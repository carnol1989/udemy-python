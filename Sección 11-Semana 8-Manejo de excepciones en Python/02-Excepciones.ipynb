{
 "cells": [
  {
   "cell_type": "markdown",
   "id": "95ef8664",
   "metadata": {},
   "source": [
    "# Excepciones en Python 3"
   ]
  },
  {
   "cell_type": "markdown",
   "id": "0feb638b",
   "metadata": {},
   "source": [
    "### 1. ¿Qué son las excepciones?"
   ]
  },
  {
   "cell_type": "markdown",
   "id": "56b75c5a",
   "metadata": {},
   "source": [
    "Python utiliza un tipo de objeto especial denominado excepción para gestionar los errores que surgen durante la ejecución de un programa. \n",
    "\n",
    "Cada vez que ocurre un error que hace que Python no sepa qué hacer a continuación, crea un objeto de excepción. Si se escribe código que maneja la excepción, el programa continuará ejecutándose. Por el contrario, si no se maneja la excepción, el programa se detendrá y mostrará un pequeño resumen de la excepción que se ha producido.\n",
    "\n",
    "Las excepciones se pueden manejan a través de las sentencias `try` y `except`."
   ]
  },
  {
   "cell_type": "code",
   "execution_count": 1,
   "id": "ee010c92",
   "metadata": {},
   "outputs": [
    {
     "ename": "NameError",
     "evalue": "name 'var' is not defined",
     "output_type": "error",
     "traceback": [
      "\u001b[1;31m---------------------------------------------------------------------------\u001b[0m",
      "\u001b[1;31mNameError\u001b[0m                                 Traceback (most recent call last)",
      "\u001b[1;32m<ipython-input-1-2ea387ab95ff>\u001b[0m in \u001b[0;36m<module>\u001b[1;34m\u001b[0m\n\u001b[1;32m----> 1\u001b[1;33m \u001b[0mprint\u001b[0m\u001b[1;33m(\u001b[0m\u001b[0mvar\u001b[0m\u001b[1;33m)\u001b[0m\u001b[1;33m\u001b[0m\u001b[1;33m\u001b[0m\u001b[0m\n\u001b[0m",
      "\u001b[1;31mNameError\u001b[0m: name 'var' is not defined"
     ]
    }
   ],
   "source": [
    "print(var)"
   ]
  },
  {
   "cell_type": "markdown",
   "id": "de45d9ca",
   "metadata": {},
   "source": [
    "### 2. Errores de sintaxis vs Excepciones"
   ]
  },
  {
   "cell_type": "markdown",
   "id": "e19e732b",
   "metadata": {},
   "source": [
    "A pesar de que en muchas ocasiones estos dos términos se utilizan de manera indistinta cuando hablamos de Python, debemos tener cuidado porque son cosas diferentes.\n",
    "\n",
    "Los **errores de sintaxis** se producen cuando escribimos una sentencia de código en Python que no es sintácticamente válida. El intérprete de Python indica estos error con el término `SyntaxError` y nos señala con el carácter `^` donde se encuentra el error."
   ]
  },
  {
   "cell_type": "code",
   "execution_count": 2,
   "id": "9d5f2441",
   "metadata": {},
   "outputs": [
    {
     "ename": "SyntaxError",
     "evalue": "EOL while scanning string literal (<ipython-input-2-62a1fbc8656d>, line 1)",
     "output_type": "error",
     "traceback": [
      "\u001b[1;36m  File \u001b[1;32m\"<ipython-input-2-62a1fbc8656d>\"\u001b[1;36m, line \u001b[1;32m1\u001b[0m\n\u001b[1;33m    print(\"Hola mundo)\u001b[0m\n\u001b[1;37m                      ^\u001b[0m\n\u001b[1;31mSyntaxError\u001b[0m\u001b[1;31m:\u001b[0m EOL while scanning string literal\n"
     ]
    }
   ],
   "source": [
    "print(\"Hola mundo)"
   ]
  },
  {
   "cell_type": "markdown",
   "id": "eb3d0645",
   "metadata": {},
   "source": [
    "**Este tipo de errores no se pueden controlar y no se corresponden con excepciones dentro del lenguaje**"
   ]
  },
  {
   "cell_type": "markdown",
   "id": "ab33f512",
   "metadata": {},
   "source": [
    "Por otro lado, las **excepciones** se corresponden con errores que se producen en sentencias de código en Python que son sintácticamente correctas. Esto tipo de errores no son fatales para el programa y pueden ser gestionados o ignorados."
   ]
  },
  {
   "cell_type": "code",
   "execution_count": 3,
   "id": "b978caa4",
   "metadata": {},
   "outputs": [
    {
     "ename": "NameError",
     "evalue": "name 'var' is not defined",
     "output_type": "error",
     "traceback": [
      "\u001b[1;31m---------------------------------------------------------------------------\u001b[0m",
      "\u001b[1;31mNameError\u001b[0m                                 Traceback (most recent call last)",
      "\u001b[1;32m<ipython-input-3-2ea387ab95ff>\u001b[0m in \u001b[0;36m<module>\u001b[1;34m\u001b[0m\n\u001b[1;32m----> 1\u001b[1;33m \u001b[0mprint\u001b[0m\u001b[1;33m(\u001b[0m\u001b[0mvar\u001b[0m\u001b[1;33m)\u001b[0m\u001b[1;33m\u001b[0m\u001b[1;33m\u001b[0m\u001b[0m\n\u001b[0m",
      "\u001b[1;31mNameError\u001b[0m: name 'var' is not defined"
     ]
    }
   ],
   "source": [
    "print(var)"
   ]
  },
  {
   "cell_type": "code",
   "execution_count": 4,
   "id": "1142d857",
   "metadata": {},
   "outputs": [
    {
     "ename": "ZeroDivisionError",
     "evalue": "division by zero",
     "output_type": "error",
     "traceback": [
      "\u001b[1;31m---------------------------------------------------------------------------\u001b[0m",
      "\u001b[1;31mZeroDivisionError\u001b[0m                         Traceback (most recent call last)",
      "\u001b[1;32m<ipython-input-4-ff5d2f231fa4>\u001b[0m in \u001b[0;36m<module>\u001b[1;34m\u001b[0m\n\u001b[1;32m----> 1\u001b[1;33m \u001b[1;36m50\u001b[0m\u001b[1;33m/\u001b[0m\u001b[1;36m0\u001b[0m\u001b[1;33m\u001b[0m\u001b[1;33m\u001b[0m\u001b[0m\n\u001b[0m",
      "\u001b[1;31mZeroDivisionError\u001b[0m: division by zero"
     ]
    }
   ],
   "source": [
    "50/0"
   ]
  },
  {
   "cell_type": "code",
   "execution_count": 5,
   "id": "c74fd8cf",
   "metadata": {},
   "outputs": [
    {
     "ename": "TypeError",
     "evalue": "can only concatenate str (not \"int\") to str",
     "output_type": "error",
     "traceback": [
      "\u001b[1;31m---------------------------------------------------------------------------\u001b[0m",
      "\u001b[1;31mTypeError\u001b[0m                                 Traceback (most recent call last)",
      "\u001b[1;32m<ipython-input-5-d2b23a1db757>\u001b[0m in \u001b[0;36m<module>\u001b[1;34m\u001b[0m\n\u001b[1;32m----> 1\u001b[1;33m \u001b[1;34m'2'\u001b[0m \u001b[1;33m+\u001b[0m \u001b[1;36m2\u001b[0m\u001b[1;33m\u001b[0m\u001b[1;33m\u001b[0m\u001b[0m\n\u001b[0m",
      "\u001b[1;31mTypeError\u001b[0m: can only concatenate str (not \"int\") to str"
     ]
    }
   ],
   "source": [
    "'2' + 2"
   ]
  },
  {
   "cell_type": "markdown",
   "id": "ea3bbb55",
   "metadata": {},
   "source": [
    "### 3. Gestión de excepciones: Sentencias `try` y `except`"
   ]
  },
  {
   "cell_type": "markdown",
   "id": "2ad969c2",
   "metadata": {},
   "source": [
    "Las sentencias `try` y `except` en Python pueden utilizarse para capturar y manejar excepciones. Python ejecuta el código que sigue a la sentencia `try` como una parte \"normal\" del programa. El código que sigue a la sentencia `except` se ejecutará si se produce cualquier excepción en la cláusula `try` precedente.\n",
    "\n",
    "La sintaxis que se utiliza para definir este tipo de comportamiento es la siguiente:\n",
    "```\n",
    "try:\n",
    "    <sentencia(s)>\n",
    "except <excepción>:\n",
    "    <sentencias(s) si excepción>\n",
    "```"
   ]
  },
  {
   "cell_type": "code",
   "execution_count": 6,
   "id": "8736c2b6",
   "metadata": {},
   "outputs": [
    {
     "ename": "NameError",
     "evalue": "name 'var' is not defined",
     "output_type": "error",
     "traceback": [
      "\u001b[1;31m---------------------------------------------------------------------------\u001b[0m",
      "\u001b[1;31mNameError\u001b[0m                                 Traceback (most recent call last)",
      "\u001b[1;32m<ipython-input-6-2ea387ab95ff>\u001b[0m in \u001b[0;36m<module>\u001b[1;34m\u001b[0m\n\u001b[1;32m----> 1\u001b[1;33m \u001b[0mprint\u001b[0m\u001b[1;33m(\u001b[0m\u001b[0mvar\u001b[0m\u001b[1;33m)\u001b[0m\u001b[1;33m\u001b[0m\u001b[1;33m\u001b[0m\u001b[0m\n\u001b[0m",
      "\u001b[1;31mNameError\u001b[0m: name 'var' is not defined"
     ]
    }
   ],
   "source": [
    "print(var)"
   ]
  },
  {
   "cell_type": "code",
   "execution_count": 9,
   "id": "4183669f",
   "metadata": {},
   "outputs": [
    {
     "name": "stdout",
     "output_type": "stream",
     "text": [
      "Hola mundo\n"
     ]
    }
   ],
   "source": [
    "try:\n",
    "    print(var)\n",
    "except NameError:\n",
    "    var = \"Hola mundo\""
   ]
  },
  {
   "cell_type": "code",
   "execution_count": 8,
   "id": "709b32dc",
   "metadata": {},
   "outputs": [
    {
     "name": "stdout",
     "output_type": "stream",
     "text": [
      "Hola mundo\n"
     ]
    }
   ],
   "source": [
    "print(var)"
   ]
  },
  {
   "cell_type": "markdown",
   "id": "305fd4fd",
   "metadata": {},
   "source": [
    "Debemos tener en cuenta que el las sentencias de código que se encuentren en el cuerpo de la sentencia `try` y a continuación de la sentencia que emite la excepción, no se ejecutarán"
   ]
  },
  {
   "cell_type": "code",
   "execution_count": 10,
   "id": "8793a50e",
   "metadata": {},
   "outputs": [
    {
     "name": "stdout",
     "output_type": "stream",
     "text": [
      "Sentencias de codigo antes del try\n",
      "Codigo antes de la excepcion\n",
      "No se puede sumar un numero entero y un string\n",
      "Sentencias de codigo despues del except\n"
     ]
    }
   ],
   "source": [
    "print(\"Sentencias de codigo antes del try\")\n",
    "\n",
    "try:\n",
    "    print(\"Codigo antes de la excepcion\")\n",
    "    10 + \"3\"\n",
    "    print(\"Codigo despues de la excepcion\")\n",
    "except TypeError:\n",
    "    print(\"No se puede sumar un numero entero y un string\")\n",
    "    \n",
    "print(\"Sentencias de codigo despues del except\")"
   ]
  },
  {
   "cell_type": "markdown",
   "id": "f415c777",
   "metadata": {},
   "source": [
    "También podemos utilizar la sentencia `except` sin indicarle el nombre de ninguna excepción, en estos casos capturará todas las excepciones que se produzcan en el código que se encuentra en el cuerpo de la sentencia `try`"
   ]
  },
  {
   "cell_type": "code",
   "execution_count": 12,
   "id": "c34c8f6a",
   "metadata": {},
   "outputs": [
    {
     "ename": "TypeError",
     "evalue": "unsupported operand type(s) for +: 'int' and 'str'",
     "output_type": "error",
     "traceback": [
      "\u001b[1;31m---------------------------------------------------------------------------\u001b[0m",
      "\u001b[1;31mTypeError\u001b[0m                                 Traceback (most recent call last)",
      "\u001b[1;32m<ipython-input-12-be7886893732>\u001b[0m in \u001b[0;36m<module>\u001b[1;34m\u001b[0m\n\u001b[1;32m----> 1\u001b[1;33m \u001b[1;36m10\u001b[0m \u001b[1;33m+\u001b[0m \u001b[1;34m\"3\"\u001b[0m\u001b[1;33m\u001b[0m\u001b[1;33m\u001b[0m\u001b[0m\n\u001b[0m\u001b[0;32m      2\u001b[0m \u001b[1;32mtry\u001b[0m\u001b[1;33m:\u001b[0m\u001b[1;33m\u001b[0m\u001b[1;33m\u001b[0m\u001b[0m\n\u001b[0;32m      3\u001b[0m     \u001b[1;36m10\u001b[0m \u001b[1;33m+\u001b[0m \u001b[1;34m\"3\"\u001b[0m\u001b[1;33m\u001b[0m\u001b[1;33m\u001b[0m\u001b[0m\n\u001b[0;32m      4\u001b[0m \u001b[1;32mexcept\u001b[0m\u001b[1;33m:\u001b[0m\u001b[1;33m\u001b[0m\u001b[1;33m\u001b[0m\u001b[0m\n\u001b[0;32m      5\u001b[0m     \u001b[0mprint\u001b[0m\u001b[1;33m(\u001b[0m\u001b[1;34m\"No se puede sumar un entero y un string\"\u001b[0m\u001b[1;33m)\u001b[0m\u001b[1;33m\u001b[0m\u001b[1;33m\u001b[0m\u001b[0m\n",
      "\u001b[1;31mTypeError\u001b[0m: unsupported operand type(s) for +: 'int' and 'str'"
     ]
    }
   ],
   "source": [
    "try:\n",
    "    10 + \"3\"\n",
    "except:\n",
    "    print(\"No se puede sumar un entero y un string\")"
   ]
  },
  {
   "cell_type": "markdown",
   "id": "8ffd1ef2",
   "metadata": {},
   "source": [
    "Adicionalmente a la sintaxis anterior, podemos capturar varias excepciones de manera simultánea utilizando varias cláusulas `except`"
   ]
  },
  {
   "cell_type": "code",
   "execution_count": 15,
   "id": "d3a5b2a1",
   "metadata": {},
   "outputs": [
    {
     "name": "stdout",
     "output_type": "stream",
     "text": [
      "No puedes dividir un numero por 0\n"
     ]
    }
   ],
   "source": [
    "try:\n",
    "    50/0\n",
    "except NameError:\n",
    "    print(\"Gestionando excepcion NameError\")\n",
    "except TypeError:\n",
    "    print(\"Gestionando execpcion Type Error\")\n",
    "except ZeroDivisionError:\n",
    "    print(\"No puedes dividir un numero por 0\")"
   ]
  },
  {
   "cell_type": "markdown",
   "id": "8baba816",
   "metadata": {},
   "source": [
    "Por último, podemos asignar el objeto excepción capturado a una variable y utilizarlos para mostrar más información al respecto."
   ]
  },
  {
   "cell_type": "code",
   "execution_count": 16,
   "id": "9e735744",
   "metadata": {},
   "outputs": [
    {
     "name": "stdout",
     "output_type": "stream",
     "text": [
      "Objeto de tipo: <class 'NameError'>\n",
      "La excepcion consiste en: name 'variable' is not defined\n"
     ]
    }
   ],
   "source": [
    "try:\n",
    "    print(variable)\n",
    "except NameError as error:\n",
    "    print(\"Objeto de tipo:\", type(error))\n",
    "    print(\"La excepcion consiste en:\", error)"
   ]
  },
  {
   "cell_type": "markdown",
   "id": "2ca28514",
   "metadata": {},
   "source": [
    "### 4. Lanzando excepciones personalizadas"
   ]
  },
  {
   "cell_type": "markdown",
   "id": "df3c0cfa",
   "metadata": {},
   "source": [
    "Además de las sentencias anteriores que podemos utilizar para controlar excepciones, Python nos proporciona la sentencia `raise` con la que podemos emitir nuestras propias excepciones. Para ello, debemos utilizar la clase por defecto de Python `Exception`"
   ]
  },
  {
   "cell_type": "code",
   "execution_count": 19,
   "id": "4d229651",
   "metadata": {},
   "outputs": [
    {
     "name": "stdout",
     "output_type": "stream",
     "text": [
      "Help on class Exception in module builtins:\n",
      "\n",
      "class Exception(BaseException)\n",
      " |  Common base class for all non-exit exceptions.\n",
      " |  \n",
      " |  Method resolution order:\n",
      " |      Exception\n",
      " |      BaseException\n",
      " |      object\n",
      " |  \n",
      " |  Built-in subclasses:\n",
      " |      ArithmeticError\n",
      " |      AssertionError\n",
      " |      AttributeError\n",
      " |      BufferError\n",
      " |      ... and 15 other subclasses\n",
      " |  \n",
      " |  Methods defined here:\n",
      " |  \n",
      " |  __init__(self, /, *args, **kwargs)\n",
      " |      Initialize self.  See help(type(self)) for accurate signature.\n",
      " |  \n",
      " |  ----------------------------------------------------------------------\n",
      " |  Static methods defined here:\n",
      " |  \n",
      " |  __new__(*args, **kwargs) from builtins.type\n",
      " |      Create and return a new object.  See help(type) for accurate signature.\n",
      " |  \n",
      " |  ----------------------------------------------------------------------\n",
      " |  Methods inherited from BaseException:\n",
      " |  \n",
      " |  __delattr__(self, name, /)\n",
      " |      Implement delattr(self, name).\n",
      " |  \n",
      " |  __getattribute__(self, name, /)\n",
      " |      Return getattr(self, name).\n",
      " |  \n",
      " |  __reduce__(...)\n",
      " |      Helper for pickle.\n",
      " |  \n",
      " |  __repr__(self, /)\n",
      " |      Return repr(self).\n",
      " |  \n",
      " |  __setattr__(self, name, value, /)\n",
      " |      Implement setattr(self, name, value).\n",
      " |  \n",
      " |  __setstate__(...)\n",
      " |  \n",
      " |  __str__(self, /)\n",
      " |      Return str(self).\n",
      " |  \n",
      " |  with_traceback(...)\n",
      " |      Exception.with_traceback(tb) --\n",
      " |      set self.__traceback__ to tb and return self.\n",
      " |  \n",
      " |  ----------------------------------------------------------------------\n",
      " |  Data descriptors inherited from BaseException:\n",
      " |  \n",
      " |  __cause__\n",
      " |      exception cause\n",
      " |  \n",
      " |  __context__\n",
      " |      exception context\n",
      " |  \n",
      " |  __dict__\n",
      " |  \n",
      " |  __suppress_context__\n",
      " |  \n",
      " |  __traceback__\n",
      " |  \n",
      " |  args\n",
      "\n"
     ]
    }
   ],
   "source": [
    "help(Exception)"
   ]
  },
  {
   "cell_type": "code",
   "execution_count": 20,
   "id": "41909646",
   "metadata": {},
   "outputs": [
    {
     "ename": "Exception",
     "evalue": "El color amarillo no se encuentra en la lista de colores permitidos",
     "output_type": "error",
     "traceback": [
      "\u001b[1;31m---------------------------------------------------------------------------\u001b[0m",
      "\u001b[1;31mException\u001b[0m                                 Traceback (most recent call last)",
      "\u001b[1;32m<ipython-input-20-da78555fe513>\u001b[0m in \u001b[0;36m<module>\u001b[1;34m\u001b[0m\n\u001b[0;32m      4\u001b[0m \u001b[1;33m\u001b[0m\u001b[0m\n\u001b[0;32m      5\u001b[0m \u001b[1;32mif\u001b[0m \u001b[0mcolor\u001b[0m \u001b[1;32mnot\u001b[0m \u001b[1;32min\u001b[0m \u001b[0mcolores_permitidos\u001b[0m\u001b[1;33m:\u001b[0m\u001b[1;33m\u001b[0m\u001b[1;33m\u001b[0m\u001b[0m\n\u001b[1;32m----> 6\u001b[1;33m     \u001b[1;32mraise\u001b[0m \u001b[0mException\u001b[0m\u001b[1;33m(\u001b[0m\u001b[1;34m\"El color {} no se encuentra en la lista de colores permitidos\"\u001b[0m\u001b[1;33m.\u001b[0m\u001b[0mformat\u001b[0m\u001b[1;33m(\u001b[0m\u001b[0mcolor\u001b[0m\u001b[1;33m)\u001b[0m\u001b[1;33m)\u001b[0m\u001b[1;33m\u001b[0m\u001b[1;33m\u001b[0m\u001b[0m\n\u001b[0m",
      "\u001b[1;31mException\u001b[0m: El color amarillo no se encuentra en la lista de colores permitidos"
     ]
    }
   ],
   "source": [
    "colores_permitidos = (\"azul\", \"verde\", \"rojo\")\n",
    "\n",
    "color = \"amarillo\"\n",
    "\n",
    "if color not in colores_permitidos:\n",
    "    raise Exception(\"El color {} no se encuentra en la lista de colores permitidos\".format(color))"
   ]
  },
  {
   "cell_type": "code",
   "execution_count": 21,
   "id": "ec26a339",
   "metadata": {},
   "outputs": [],
   "source": [
    "colores_permitidos = (\"azul\", \"verde\", \"rojo\")\n",
    "\n",
    "color = \"verde\"\n",
    "\n",
    "if color not in colores_permitidos:\n",
    "    raise Exception(\"El color {} no se encuentra en la lista de colores permitidos\".format(color))"
   ]
  },
  {
   "cell_type": "markdown",
   "id": "98855dc6",
   "metadata": {},
   "source": [
    "### 5. Excepción `AssertionError`"
   ]
  },
  {
   "cell_type": "markdown",
   "id": "6ba53891",
   "metadata": {},
   "source": [
    "Como complemento a todas las sentencias anteriores, Python nos proporciona una sentencia adicional que nos permite verificar en un punto determinado de nuestro programa que todo esta funcionando adecuadamente, esta sentencia es `assert`."
   ]
  },
  {
   "cell_type": "code",
   "execution_count": 23,
   "id": "375ef4d5",
   "metadata": {},
   "outputs": [
    {
     "name": "stdout",
     "output_type": "stream",
     "text": [
      "Introduce una contrasena de mas de 8 digitos:123456789\n"
     ]
    }
   ],
   "source": [
    "passwd = input(\"Introduce una contrasena de mas de 8 digitos:\")\n",
    "\n",
    "assert len(passwd) > 8, \"La contrasena es menor a 8 digitos\""
   ]
  },
  {
   "cell_type": "markdown",
   "id": "e722dba2",
   "metadata": {},
   "source": [
    "### 6. Cláusula `else` en excepciones"
   ]
  },
  {
   "cell_type": "markdown",
   "id": "24a3ee7e",
   "metadata": {},
   "source": [
    "Curiosamente, Python nos proporciona un mecanismo por el cual utilizando la sentencia `else`, se puede indicar a un programa que ejecute un determinado bloque de código sólo en ausencia de excepciones."
   ]
  },
  {
   "cell_type": "code",
   "execution_count": 25,
   "id": "c9bc0840",
   "metadata": {},
   "outputs": [
    {
     "name": "stdout",
     "output_type": "stream",
     "text": [
      "Hola mundo\n",
      "variable2 ya estaba definida con el valor: Hola mundo\n"
     ]
    }
   ],
   "source": [
    "try:\n",
    "    print(variable2)\n",
    "except NameError:\n",
    "    print(\"variable2 no estaba definida, se define con la cadena 'Hola mundo'\")\n",
    "    variable2 = 'Hola mundo'\n",
    "else:\n",
    "    print(\"variable2 ya estaba definida con el valor:\", variable2)"
   ]
  },
  {
   "cell_type": "markdown",
   "id": "67385058",
   "metadata": {},
   "source": [
    "### 7. Sentencia `finally`"
   ]
  },
  {
   "cell_type": "markdown",
   "id": "12752715",
   "metadata": {},
   "source": [
    "Python nos proporciona una última sentencia que podemos utilizar para realizar una \"limpieza\" después de la ejecución de nuestro código al gestionar una excepción. Esta sentencia se denomina `finally` y el código que se localice en su cuerpo, se ejcutará siempre, independientemente de si se produce o no la expcepción."
   ]
  },
  {
   "cell_type": "code",
   "execution_count": 27,
   "id": "362eec7a",
   "metadata": {},
   "outputs": [
    {
     "name": "stdout",
     "output_type": "stream",
     "text": [
      "Hola mundo\n",
      "variable3 ya estaba definida con el valor: Hola mundo\n"
     ]
    }
   ],
   "source": [
    "try:\n",
    "    print(variable3)\n",
    "except NameError:\n",
    "    print(\"variable3 no estaba definida, se define con la cadena 'Hola mundo'\")\n",
    "    variable3 = 'Hola mundo'\n",
    "else:\n",
    "    print(\"variable3 ya estaba definida con el valor:\", variable2)"
   ]
  },
  {
   "cell_type": "code",
   "execution_count": 32,
   "id": "46aadd5a",
   "metadata": {},
   "outputs": [
    {
     "name": "stdout",
     "output_type": "stream",
     "text": [
      "variable3 no estaba definida, se define con la cadena 'Hola mundo'\n"
     ]
    }
   ],
   "source": [
    "try:\n",
    "    print(variable3)\n",
    "except NameError:\n",
    "    print(\"variable3 no estaba definida, se define con la cadena 'Hola mundo'\")\n",
    "    variable3 = 'Hola mundo'\n",
    "else:\n",
    "    print(\"variable3 ya estaba definida con el valor:\", variable2)\n",
    "finally:\n",
    "    del variable3"
   ]
  },
  {
   "cell_type": "code",
   "execution_count": null,
   "id": "996545ac",
   "metadata": {},
   "outputs": [],
   "source": []
  },
  {
   "cell_type": "code",
   "execution_count": null,
   "id": "a28d45dc",
   "metadata": {},
   "outputs": [],
   "source": []
  }
 ],
 "metadata": {
  "kernelspec": {
   "display_name": "Python 3",
   "language": "python",
   "name": "python3"
  },
  "language_info": {
   "codemirror_mode": {
    "name": "ipython",
    "version": 3
   },
   "file_extension": ".py",
   "mimetype": "text/x-python",
   "name": "python",
   "nbconvert_exporter": "python",
   "pygments_lexer": "ipython3",
   "version": "3.9.2"
  }
 },
 "nbformat": 4,
 "nbformat_minor": 5
}
