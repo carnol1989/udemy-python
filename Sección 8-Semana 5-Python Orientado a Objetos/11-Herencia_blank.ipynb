{
 "cells": [
  {
   "cell_type": "markdown",
   "metadata": {},
   "source": [
    "# Herencia en Python 3"
   ]
  },
  {
   "cell_type": "markdown",
   "metadata": {},
   "source": [
    "### 1. ¿Qué es la herencia en Python 3?"
   ]
  },
  {
   "cell_type": "markdown",
   "metadata": {},
   "source": [
    "La herencia es el mecanismo que se utiliza para crear jerarquías de clases relacionadas. Estas clases relacionadas compartirán una interfaz común que se definirá en la clase base. Las clases derivadas de la clase base pueden especializar la interfaz proporcionando una implementación particular cuando corresponda."
   ]
  },
  {
   "cell_type": "code",
   "execution_count": null,
   "metadata": {},
   "outputs": [],
   "source": [
    "class Coche():\n",
    "    \"\"\"Esta clase representa un coche.\"\"\"\n",
    "    \n",
    "    def __init__(self, modelo, potencia, consumo):\n",
    "        \"\"\"Inicializa los atributos de instancia.\n",
    "        \n",
    "        Argumentos posicionales:\n",
    "        modelo -- string que representa el modelo del coche\n",
    "        potencia -- int que representa la potencia en cv\n",
    "        consumo -- int que representa el consumo en litros/100km\n",
    "        \"\"\"\n",
    "        self.modelo = modelo\n",
    "        self.potencia = potencia\n",
    "        self.consumo = consumo\n",
    "        self._km_actuales = 0\n",
    "        \n",
    "    def especificaciones(self):\n",
    "        \"\"\"Muestra las especificaciones del coche.\"\"\"\n",
    "        print(\"Modelo:\", self.modelo, \n",
    "              \"\\nPotencia: {} cv\".format(self.potencia), \n",
    "              \"\\nConsumo: {} l/100km\".format(self.consumo),\n",
    "              \"\\nKilometros actuales:\", self._km_actuales)\n",
    "    \n",
    "    @property\n",
    "    def kilometros(self):\n",
    "        return self._km_actuales\n",
    "        \n",
    "    @kilometros.setter\n",
    "    def kilometros(self, kilometros):\n",
    "        \"\"\"Actualiza los kilometros actuales del coche.\"\"\"\n",
    "        if kilometros > self._km_actuales:\n",
    "            self._km_actuales = kilometros\n",
    "        else:\n",
    "            print(\"ERROR: No se puede establecer un valor de km inferior al actual\")     \n",
    "        \n",
    "    def consumo_total(self):\n",
    "        \"\"\"Muestra el consumo total del coche desde el kilometro 0.\"\"\"        \n",
    "        consumo_total = (self._km_actuales / 100) * self.consumo\n",
    "        print(\"El consumo total es de {} litros\".format(consumo_total))"
   ]
  },
  {
   "cell_type": "markdown",
   "metadata": {},
   "source": [
    "**¿Qué sucede si quiero representar un coche electrico?**"
   ]
  },
  {
   "cell_type": "code",
   "execution_count": null,
   "metadata": {},
   "outputs": [],
   "source": []
  },
  {
   "cell_type": "code",
   "execution_count": null,
   "metadata": {},
   "outputs": [],
   "source": []
  },
  {
   "cell_type": "code",
   "execution_count": null,
   "metadata": {},
   "outputs": [],
   "source": []
  },
  {
   "cell_type": "markdown",
   "metadata": {},
   "source": [
    "En este punto podría crear un metodo _setter_ que me permitiese modificar el valor del combustible, sin embargo, esto conduciría a una clase muy compleja y con mucho código. Este tipo de problemas es mejor resolverlos utilizando herencia."
   ]
  },
  {
   "cell_type": "code",
   "execution_count": null,
   "metadata": {},
   "outputs": [],
   "source": []
  },
  {
   "cell_type": "code",
   "execution_count": null,
   "metadata": {},
   "outputs": [],
   "source": []
  },
  {
   "cell_type": "code",
   "execution_count": null,
   "metadata": {},
   "outputs": [],
   "source": []
  },
  {
   "cell_type": "markdown",
   "metadata": {},
   "source": [
    "### 2. Definición de atributos y métodos propios en la clase hija"
   ]
  },
  {
   "cell_type": "markdown",
   "metadata": {},
   "source": [
    "Otra de las cosas que podemos hacer es extender el comportamiento de la clase padre añadiendo nuevos métodos y atributos en la clase hija."
   ]
  },
  {
   "cell_type": "code",
   "execution_count": null,
   "metadata": {},
   "outputs": [],
   "source": []
  },
  {
   "cell_type": "code",
   "execution_count": null,
   "metadata": {},
   "outputs": [],
   "source": []
  },
  {
   "cell_type": "code",
   "execution_count": null,
   "metadata": {},
   "outputs": [],
   "source": []
  },
  {
   "cell_type": "code",
   "execution_count": null,
   "metadata": {},
   "outputs": [],
   "source": []
  },
  {
   "cell_type": "markdown",
   "metadata": {},
   "source": [
    "### 3. Sobreescribir métodos de la clase padre"
   ]
  },
  {
   "cell_type": "markdown",
   "metadata": {},
   "source": [
    "En algunas ocasiones, es posible que alguno de los métodos de la clase padre no encaje bien con la clase hija que se ha definido. En estos casos, podemos sobreescribir el método de la clase padre dentro de la clase hija."
   ]
  },
  {
   "cell_type": "code",
   "execution_count": null,
   "metadata": {},
   "outputs": [],
   "source": []
  },
  {
   "cell_type": "code",
   "execution_count": null,
   "metadata": {},
   "outputs": [],
   "source": []
  },
  {
   "cell_type": "code",
   "execution_count": null,
   "metadata": {},
   "outputs": [],
   "source": []
  },
  {
   "cell_type": "code",
   "execution_count": null,
   "metadata": {},
   "outputs": [],
   "source": []
  },
  {
   "cell_type": "code",
   "execution_count": null,
   "metadata": {},
   "outputs": [],
   "source": []
  },
  {
   "cell_type": "code",
   "execution_count": null,
   "metadata": {},
   "outputs": [],
   "source": []
  },
  {
   "cell_type": "markdown",
   "metadata": {},
   "source": [
    "### 4. Objetos dentro de una clase"
   ]
  },
  {
   "cell_type": "markdown",
   "metadata": {},
   "source": [
    "Es posble que en algunos casos de uso, determinadas propiedades de una clase tenga suficiente entidad como para convertirse en una clase propia. En estos casos, podemos asginar un objeto de esta segunda a clase a un atributo de la primera."
   ]
  },
  {
   "cell_type": "code",
   "execution_count": null,
   "metadata": {},
   "outputs": [],
   "source": []
  },
  {
   "cell_type": "code",
   "execution_count": null,
   "metadata": {},
   "outputs": [],
   "source": []
  },
  {
   "cell_type": "code",
   "execution_count": null,
   "metadata": {},
   "outputs": [],
   "source": []
  },
  {
   "cell_type": "code",
   "execution_count": null,
   "metadata": {},
   "outputs": [],
   "source": []
  },
  {
   "cell_type": "code",
   "execution_count": null,
   "metadata": {},
   "outputs": [],
   "source": []
  },
  {
   "cell_type": "code",
   "execution_count": null,
   "metadata": {},
   "outputs": [],
   "source": []
  },
  {
   "cell_type": "code",
   "execution_count": null,
   "metadata": {},
   "outputs": [],
   "source": []
  }
 ],
 "metadata": {
  "kernelspec": {
   "display_name": "Python 3",
   "language": "python",
   "name": "python3"
  },
  "language_info": {
   "codemirror_mode": {
    "name": "ipython",
    "version": 3
   },
   "file_extension": ".py",
   "mimetype": "text/x-python",
   "name": "python",
   "nbconvert_exporter": "python",
   "pygments_lexer": "ipython3",
   "version": "3.8.5"
  }
 },
 "nbformat": 4,
 "nbformat_minor": 4
}
