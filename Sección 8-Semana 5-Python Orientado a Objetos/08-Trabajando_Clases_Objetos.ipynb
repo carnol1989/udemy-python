{
 "cells": [
  {
   "cell_type": "markdown",
   "metadata": {},
   "source": [
    "# Trabajando con Clases y Objetos"
   ]
  },
  {
   "cell_type": "markdown",
   "metadata": {},
   "source": [
    "### 1. Definiendo una clase"
   ]
  },
  {
   "cell_type": "code",
   "execution_count": 1,
   "metadata": {},
   "outputs": [],
   "source": [
    "class Coche():\n",
    "    \"\"\"Esta clase representa un coche.\"\"\"\n",
    "    \n",
    "    def __init__(self, modelo, potencia, consumo):\n",
    "        \"\"\"Inicializa los atributos de instancia.\n",
    "        \n",
    "        Argumentos posicionales:\n",
    "        modelo -- string que representa el modelo del coche\n",
    "        potencia -- int que representa la potencia en cv\n",
    "        conumo -- int que representa el consumo en l/100km\n",
    "        \"\"\"\n",
    "        self.modelo = modelo\n",
    "        self.potencia = potencia\n",
    "        self.consumo = consumo\n",
    "        \n",
    "    def especificaciones(self):\n",
    "        \"\"\"Muestra las especicificaciones del coche.\"\"\"\n",
    "        print(\"Modelo:\", self.modelo,\n",
    "             \"\\nPotencia: {} cv\".format(self.potencia),\n",
    "             \"\\nConsumo: {} l/100km\".format(self.consumo))"
   ]
  },
  {
   "cell_type": "code",
   "execution_count": 2,
   "metadata": {},
   "outputs": [
    {
     "name": "stdout",
     "output_type": "stream",
     "text": [
      "Help on class Coche in module __main__:\n",
      "\n",
      "class Coche(builtins.object)\n",
      " |  Coche(modelo, potencia, consumo)\n",
      " |  \n",
      " |  Esta clase representa un coche.\n",
      " |  \n",
      " |  Methods defined here:\n",
      " |  \n",
      " |  __init__(self, modelo, potencia, consumo)\n",
      " |      Inicializa los atributos de instancia.\n",
      " |      \n",
      " |      Argumentos posicionales:\n",
      " |      modelo -- string que representa el modelo del coche\n",
      " |      potencia -- int que representa la potencia en cv\n",
      " |      conumo -- int que representa el consumo en l/100km\n",
      " |  \n",
      " |  especificaciones(self)\n",
      " |      Muestra las especicificaciones del coche.\n",
      " |  \n",
      " |  ----------------------------------------------------------------------\n",
      " |  Data descriptors defined here:\n",
      " |  \n",
      " |  __dict__\n",
      " |      dictionary for instance variables (if defined)\n",
      " |  \n",
      " |  __weakref__\n",
      " |      list of weak references to the object (if defined)\n",
      "\n"
     ]
    }
   ],
   "source": [
    "help(Coche)"
   ]
  },
  {
   "cell_type": "code",
   "execution_count": 3,
   "metadata": {},
   "outputs": [],
   "source": [
    "mercedes = Coche(\"mercedes c200\", 180, 7)"
   ]
  },
  {
   "cell_type": "code",
   "execution_count": 4,
   "metadata": {},
   "outputs": [
    {
     "name": "stdout",
     "output_type": "stream",
     "text": [
      "Modelo: mercedes c200 \n",
      "Potencia: 180 cv \n",
      "Consumo: 7 l/100km\n"
     ]
    }
   ],
   "source": [
    "mercedes.especificaciones()"
   ]
  },
  {
   "cell_type": "markdown",
   "metadata": {},
   "source": [
    "### 2. Atributos con valores por defecto"
   ]
  },
  {
   "cell_type": "code",
   "execution_count": 7,
   "metadata": {},
   "outputs": [],
   "source": [
    "class Coche():\n",
    "    \"\"\"Esta clase representa un coche.\"\"\"\n",
    "    \n",
    "    def __init__(self, modelo, potencia, consumo):\n",
    "        \"\"\"Inicializa los atributos de instancia.\n",
    "        \n",
    "        Argumentos posicionales:\n",
    "        modelo -- string que representa el modelo del coche\n",
    "        potencia -- int que representa la potencia en cv\n",
    "        conumo -- int que representa el consumo en l/100km\n",
    "        \"\"\"\n",
    "        self.modelo = modelo\n",
    "        self.potencia = potencia\n",
    "        self.consumo = consumo\n",
    "        self.km_actuales = 0\n",
    "        \n",
    "    def especificaciones(self):\n",
    "        \"\"\"Muestra las especicificaciones del coche.\"\"\"\n",
    "        print(\"Modelo:\", self.modelo,\n",
    "             \"\\nPotencia: {} cv\".format(self.potencia),\n",
    "             \"\\nConsumo: {} l/100km\".format(self.consumo),\n",
    "             \"\\nKilometros actuales:\", self.km_actuales)"
   ]
  },
  {
   "cell_type": "code",
   "execution_count": 8,
   "metadata": {},
   "outputs": [],
   "source": [
    "mercedes = Coche(\"mercedes c200\", 180, 7)"
   ]
  },
  {
   "cell_type": "code",
   "execution_count": 9,
   "metadata": {},
   "outputs": [
    {
     "name": "stdout",
     "output_type": "stream",
     "text": [
      "Modelo: mercedes c200 \n",
      "Potencia: 180 cv \n",
      "Consumo: 7 l/100km \n",
      "kilometros actuales 0\n"
     ]
    }
   ],
   "source": [
    "mercedes.especificaciones()"
   ]
  },
  {
   "cell_type": "code",
   "execution_count": null,
   "metadata": {},
   "outputs": [],
   "source": []
  },
  {
   "cell_type": "markdown",
   "metadata": {},
   "source": [
    "### 3. Modificando los valores de los atributos de un objeto"
   ]
  },
  {
   "cell_type": "markdown",
   "metadata": {},
   "source": [
    "La manera más sencilla de modificar el valor de un atributo de un objeto es utilizando la sintaxis: \n",
    "```\n",
    "<objeto>.<atributo> = <nuevo_valor>\n",
    "```"
   ]
  },
  {
   "cell_type": "code",
   "execution_count": 13,
   "metadata": {},
   "outputs": [],
   "source": [
    "mercedes.km_actuales = -200"
   ]
  },
  {
   "cell_type": "code",
   "execution_count": 14,
   "metadata": {},
   "outputs": [
    {
     "name": "stdout",
     "output_type": "stream",
     "text": [
      "Modelo: mercedes c200 \n",
      "Potencia: 180 cv \n",
      "Consumo: 7 l/100km \n",
      "kilometros actuales -200\n"
     ]
    }
   ],
   "source": [
    "mercedes.especificaciones()"
   ]
  },
  {
   "cell_type": "markdown",
   "metadata": {},
   "source": [
    "Por otro lado, existe una práctica mejor a la hora de modificar los atributos de la clase que consiste en hacerlo a través de un método especialmente creado para ello.\n",
    "\n",
    "Esto nos permite realizar operaciones adicionales dentro de nuestro objeto siempre que se recibe un nuevo valor de un atributo."
   ]
  },
  {
   "cell_type": "code",
   "execution_count": 15,
   "metadata": {},
   "outputs": [],
   "source": [
    "class Coche():\n",
    "    \"\"\"Esta clase representa un coche.\"\"\"\n",
    "    \n",
    "    def __init__(self, modelo, potencia, consumo):\n",
    "        \"\"\"Inicializa los atributos de instancia.\n",
    "        \n",
    "        Argumentos posicionales:\n",
    "        modelo -- string que representa el modelo del coche\n",
    "        potencia -- int que representa la potencia en cv\n",
    "        conumo -- int que representa el consumo en l/100km\n",
    "        \"\"\"\n",
    "        self._modelo = modelo\n",
    "        self._potencia = potencia\n",
    "        self._consumo = consumo\n",
    "        self._km_actuales = 0\n",
    "        \n",
    "    def especificaciones(self):\n",
    "        \"\"\"Muestra las especicificaciones del coche.\"\"\"\n",
    "        print(\"Modelo:\", self._modelo,\n",
    "             \"\\nPotencia: {} cv\".format(self._potencia),\n",
    "             \"\\nConsumo: {} l/100km\".format(self._consumo),\n",
    "             \"\\nKilometros actuales:\", self._km_actuales)\n",
    "        \n",
    "    def actualizar_kilometros(self, kilometros):\n",
    "        \"\"\"Actualiza los kilometros del coche.\"\"\"\n",
    "        if kilometros > self._km_actuales:\n",
    "            self._km_actuales = kilometros\n",
    "        else:\n",
    "            print(\"ERROR: No se puede establecer un numero de kilometros inferior al actual\")"
   ]
  },
  {
   "cell_type": "code",
   "execution_count": 16,
   "metadata": {},
   "outputs": [],
   "source": [
    "mercedes = Coche(\"mercedes c200\", 180, 7)"
   ]
  },
  {
   "cell_type": "code",
   "execution_count": 17,
   "metadata": {},
   "outputs": [
    {
     "name": "stdout",
     "output_type": "stream",
     "text": [
      "Modelo: mercedes c200 \n",
      "Potencia: 180 cv \n",
      "Consumo: 7 l/100km \n",
      "Kilometros actuales: 0\n"
     ]
    }
   ],
   "source": [
    "mercedes.especificaciones()"
   ]
  },
  {
   "cell_type": "code",
   "execution_count": 18,
   "metadata": {},
   "outputs": [],
   "source": [
    "mercedes.actualizar_kilometros(1000)"
   ]
  },
  {
   "cell_type": "code",
   "execution_count": 19,
   "metadata": {},
   "outputs": [
    {
     "name": "stdout",
     "output_type": "stream",
     "text": [
      "Modelo: mercedes c200 \n",
      "Potencia: 180 cv \n",
      "Consumo: 7 l/100km \n",
      "Kilometros actuales: 1000\n"
     ]
    }
   ],
   "source": [
    "mercedes.especificaciones()"
   ]
  },
  {
   "cell_type": "code",
   "execution_count": 20,
   "metadata": {},
   "outputs": [
    {
     "name": "stdout",
     "output_type": "stream",
     "text": [
      "ERROR: No se puede establecer un numero de kilometros inferior al actual\n"
     ]
    }
   ],
   "source": [
    "mercedes.actualizar_kilometros(10)"
   ]
  },
  {
   "cell_type": "markdown",
   "metadata": {},
   "source": [
    "### 4. Extendiendo la funcionalidad de nuestra clase"
   ]
  },
  {
   "cell_type": "code",
   "execution_count": 21,
   "metadata": {},
   "outputs": [],
   "source": [
    "class Coche():\n",
    "    \"\"\"Esta clase representa un coche.\"\"\"\n",
    "    \n",
    "    def __init__(self, modelo, potencia, consumo):\n",
    "        \"\"\"Inicializa los atributos de instancia.\n",
    "        \n",
    "        Argumentos posicionales:\n",
    "        modelo -- string que representa el modelo del coche\n",
    "        potencia -- int que representa la potencia en cv\n",
    "        conumo -- int que representa el consumo en l/100km\n",
    "        \"\"\"\n",
    "        self._modelo = modelo\n",
    "        self._potencia = potencia\n",
    "        self._consumo = consumo\n",
    "        self._km_actuales = 0\n",
    "        \n",
    "    def especificaciones(self):\n",
    "        \"\"\"Muestra las especicificaciones del coche.\"\"\"\n",
    "        print(\"Modelo:\", self._modelo,\n",
    "             \"\\nPotencia: {} cv\".format(self._potencia),\n",
    "             \"\\nConsumo: {} l/100km\".format(self._consumo),\n",
    "             \"\\nKilometros actuales:\", self._km_actuales)\n",
    "        \n",
    "    def actualizar_kilometros(self, kilometros):\n",
    "        \"\"\"Actualiza los kilometros del coche.\"\"\"\n",
    "        if kilometros > self._km_actuales:\n",
    "            self._km_actuales = kilometros\n",
    "        else:\n",
    "            print(\"ERROR: No se puede establecer un numero de kilometros inferior al actual\")\n",
    "            \n",
    "    def consumo_total(self):\n",
    "        \"\"\"Muestra el consumo total del coche desde el kilometro 0.\"\"\"\n",
    "        consumo_total = (self._km_actuales / 100) * self._consumo\n",
    "        print(\"El consumo total es de {} litros\".format(consumo_total))"
   ]
  },
  {
   "cell_type": "code",
   "execution_count": 22,
   "metadata": {},
   "outputs": [],
   "source": [
    "mercedes = Coche(\"mercedes c200\", 180, 7)"
   ]
  },
  {
   "cell_type": "code",
   "execution_count": 23,
   "metadata": {},
   "outputs": [
    {
     "name": "stdout",
     "output_type": "stream",
     "text": [
      "El consumo total es de 0.0 litros\n"
     ]
    }
   ],
   "source": [
    "mercedes.consumo_total()"
   ]
  },
  {
   "cell_type": "code",
   "execution_count": 24,
   "metadata": {},
   "outputs": [
    {
     "name": "stdout",
     "output_type": "stream",
     "text": [
      "Modelo: mercedes c200 \n",
      "Potencia: 180 cv \n",
      "Consumo: 7 l/100km \n",
      "Kilometros actuales: 0\n"
     ]
    }
   ],
   "source": [
    "mercedes.especificaciones()"
   ]
  },
  {
   "cell_type": "code",
   "execution_count": 25,
   "metadata": {
    "scrolled": true
   },
   "outputs": [],
   "source": [
    "mercedes.actualizar_kilometros(100)"
   ]
  },
  {
   "cell_type": "code",
   "execution_count": 26,
   "metadata": {},
   "outputs": [
    {
     "name": "stdout",
     "output_type": "stream",
     "text": [
      "El consumo total es de 7.0 litros\n"
     ]
    }
   ],
   "source": [
    "mercedes.consumo_total()"
   ]
  },
  {
   "cell_type": "code",
   "execution_count": 27,
   "metadata": {},
   "outputs": [],
   "source": [
    "mercedes.actualizar_kilometros(153_000)"
   ]
  },
  {
   "cell_type": "code",
   "execution_count": 28,
   "metadata": {},
   "outputs": [
    {
     "name": "stdout",
     "output_type": "stream",
     "text": [
      "El consumo total es de 10710.0 litros\n"
     ]
    }
   ],
   "source": [
    "mercedes.consumo_total()"
   ]
  },
  {
   "cell_type": "code",
   "execution_count": null,
   "metadata": {},
   "outputs": [],
   "source": []
  }
 ],
 "metadata": {
  "kernelspec": {
   "display_name": "Python 3",
   "language": "python",
   "name": "python3"
  },
  "language_info": {
   "codemirror_mode": {
    "name": "ipython",
    "version": 3
   },
   "file_extension": ".py",
   "mimetype": "text/x-python",
   "name": "python",
   "nbconvert_exporter": "python",
   "pygments_lexer": "ipython3",
   "version": "3.9.2"
  }
 },
 "nbformat": 4,
 "nbformat_minor": 4
}
