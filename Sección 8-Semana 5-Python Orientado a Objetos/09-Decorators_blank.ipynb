{
 "cells": [
  {
   "cell_type": "markdown",
   "metadata": {},
   "source": [
    "# Decorators"
   ]
  },
  {
   "cell_type": "markdown",
   "metadata": {},
   "source": [
    "### 1. Conceptos avanzados sobre funciones"
   ]
  },
  {
   "cell_type": "markdown",
   "metadata": {},
   "source": [
    "En Python las funciones también se consideran objetos y como consecuencia de esto se pueden asignar a una variable, almacenarlas en estructuras de datos (listas, tuplas, diccionarios...) o incluso pasarlas como argumento de otras funciones."
   ]
  },
  {
   "cell_type": "code",
   "execution_count": null,
   "metadata": {},
   "outputs": [],
   "source": []
  },
  {
   "cell_type": "code",
   "execution_count": null,
   "metadata": {},
   "outputs": [],
   "source": []
  },
  {
   "cell_type": "code",
   "execution_count": null,
   "metadata": {},
   "outputs": [],
   "source": []
  },
  {
   "cell_type": "code",
   "execution_count": null,
   "metadata": {},
   "outputs": [],
   "source": []
  },
  {
   "cell_type": "code",
   "execution_count": null,
   "metadata": {},
   "outputs": [],
   "source": []
  },
  {
   "cell_type": "markdown",
   "metadata": {},
   "source": [
    "### 2. ¿Qué es un _decorator_?"
   ]
  },
  {
   "cell_type": "markdown",
   "metadata": {},
   "source": [
    "Los _decorator_ envuelven una función, modificando su comportamiento realizando una combinación de todas las propiedades que hemos visto anteriormente."
   ]
  },
  {
   "cell_type": "code",
   "execution_count": null,
   "metadata": {},
   "outputs": [],
   "source": []
  },
  {
   "cell_type": "code",
   "execution_count": null,
   "metadata": {},
   "outputs": [],
   "source": []
  },
  {
   "cell_type": "code",
   "execution_count": null,
   "metadata": {},
   "outputs": [],
   "source": []
  },
  {
   "cell_type": "code",
   "execution_count": null,
   "metadata": {},
   "outputs": [],
   "source": []
  },
  {
   "cell_type": "markdown",
   "metadata": {},
   "source": [
    "Podemos utilizar _decorators_ para modificar el comportamiento de una función que programemos, por ejemplo, añadiendo condiciones que se evalúen antes de ejecutar la función ya existente que no queremos modificar."
   ]
  },
  {
   "cell_type": "code",
   "execution_count": null,
   "metadata": {},
   "outputs": [],
   "source": []
  },
  {
   "cell_type": "code",
   "execution_count": null,
   "metadata": {},
   "outputs": [],
   "source": []
  },
  {
   "cell_type": "code",
   "execution_count": null,
   "metadata": {},
   "outputs": [],
   "source": []
  },
  {
   "cell_type": "code",
   "execution_count": null,
   "metadata": {},
   "outputs": [],
   "source": []
  },
  {
   "cell_type": "code",
   "execution_count": null,
   "metadata": {},
   "outputs": [],
   "source": []
  },
  {
   "cell_type": "code",
   "execution_count": null,
   "metadata": {},
   "outputs": [],
   "source": []
  },
  {
   "cell_type": "code",
   "execution_count": null,
   "metadata": {},
   "outputs": [],
   "source": []
  },
  {
   "cell_type": "markdown",
   "metadata": {},
   "source": [
    "### 3. _Syntactic Sugar_"
   ]
  },
  {
   "cell_type": "markdown",
   "metadata": {},
   "source": [
    "La sintaxis que hemos utilizado en el apartado anterior para definir el _decorator_ es bastante compleja, por ello, Python nos proporciona una alternativa mucho más sencilla."
   ]
  },
  {
   "cell_type": "code",
   "execution_count": null,
   "metadata": {},
   "outputs": [],
   "source": []
  },
  {
   "cell_type": "code",
   "execution_count": null,
   "metadata": {},
   "outputs": [],
   "source": []
  },
  {
   "cell_type": "code",
   "execution_count": null,
   "metadata": {},
   "outputs": [],
   "source": []
  },
  {
   "cell_type": "markdown",
   "metadata": {},
   "source": [
    "### 4. _Decorators_ en las Clases"
   ]
  },
  {
   "cell_type": "markdown",
   "metadata": {},
   "source": [
    "Una de las cosas interesantes sobre los _decorators_ es que Python nos proporciona varios definidos por defecto que podemos utilizar dentro de una clase.\n",
    "\n",
    "Uno de los _decorators_ más interesantes que podemos utilizar es `@property`, que nos permite definir métodos en una clase para consultar y modificar un atributo interno."
   ]
  },
  {
   "cell_type": "code",
   "execution_count": null,
   "metadata": {},
   "outputs": [],
   "source": [
    "class Coche():\n",
    "    \"\"\"Esta clase representa un coche.\"\"\"\n",
    "    \n",
    "    def __init__(self, modelo, potencia, consumo):\n",
    "        \"\"\"Inicializa los atributos de instancia.\n",
    "        \n",
    "        Argumentos posicionales:\n",
    "        modelo -- string que representa el modelo del coche\n",
    "        potencia -- int que representa la potencia en cv\n",
    "        conumo -- int que representa el consumo en l/100km\n",
    "        \"\"\"\n",
    "        self._modelo = modelo\n",
    "        self._potencia = potencia\n",
    "        self._consumo = consumo\n",
    "        self._km_actuales = 0\n",
    "        \n",
    "    def especificaciones(self):\n",
    "        \"\"\"Muestra las especicificaciones del coche.\"\"\"\n",
    "        print(\"Modelo:\", self._modelo,\n",
    "             \"\\nPotencia: {} cv\".format(self._potencia),\n",
    "             \"\\nConsumo: {} l/100km\".format(self._consumo),\n",
    "             \"\\nKilometros actuales:\", self._km_actuales)\n",
    "        \n",
    "    def actualizar_kilometros(self, kilometros):\n",
    "        \"\"\"Actualiza los kilometros del coche.\"\"\"\n",
    "        if kilometros > self._km_actuales:\n",
    "            self._km_actuales = kilometros\n",
    "        else:\n",
    "            print(\"ERROR: No se puede establecer un numero de kilometros inferior al actual\")\n",
    "            \n",
    "    def consumo_total(self):\n",
    "        \"\"\"Muestra el consumo total del coche desde el kilometro 0.\"\"\"\n",
    "        consumo_total = (self._km_actuales / 100) * self._consumo\n",
    "        print(\"El consumo total es de {} litros\".format(consumo_total))"
   ]
  },
  {
   "cell_type": "code",
   "execution_count": null,
   "metadata": {},
   "outputs": [],
   "source": []
  },
  {
   "cell_type": "code",
   "execution_count": null,
   "metadata": {},
   "outputs": [],
   "source": []
  },
  {
   "cell_type": "code",
   "execution_count": null,
   "metadata": {},
   "outputs": [],
   "source": []
  },
  {
   "cell_type": "code",
   "execution_count": null,
   "metadata": {},
   "outputs": [],
   "source": []
  },
  {
   "cell_type": "code",
   "execution_count": null,
   "metadata": {},
   "outputs": [],
   "source": []
  },
  {
   "cell_type": "code",
   "execution_count": null,
   "metadata": {},
   "outputs": [],
   "source": []
  },
  {
   "cell_type": "code",
   "execution_count": null,
   "metadata": {},
   "outputs": [],
   "source": []
  },
  {
   "cell_type": "code",
   "execution_count": null,
   "metadata": {},
   "outputs": [],
   "source": []
  }
 ],
 "metadata": {
  "kernelspec": {
   "display_name": "Python 3",
   "language": "python",
   "name": "python3"
  },
  "language_info": {
   "codemirror_mode": {
    "name": "ipython",
    "version": 3
   },
   "file_extension": ".py",
   "mimetype": "text/x-python",
   "name": "python",
   "nbconvert_exporter": "python",
   "pygments_lexer": "ipython3",
   "version": "3.8.5"
  }
 },
 "nbformat": 4,
 "nbformat_minor": 4
}
