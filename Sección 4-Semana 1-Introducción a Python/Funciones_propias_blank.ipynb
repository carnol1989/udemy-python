{
 "cells": [
  {
   "cell_type": "markdown",
   "metadata": {},
   "source": [
    "# Funciones propias de Python"
   ]
  },
  {
   "cell_type": "markdown",
   "metadata": {},
   "source": [
    "El intérprete de Python tiene una serie de funciones que están siempre disponibles. A continuación se enumeran en orden alfabético."
   ]
  },
  {
   "cell_type": "markdown",
   "metadata": {},
   "source": [
    "<table>\n",
    "<colgroup>\n",
    "<col style=\"width: 21%\">\n",
    "<col style=\"width: 18%\">\n",
    "<col style=\"width: 20%\">\n",
    "<col style=\"width: 20%\">\n",
    "<col style=\"width: 22%\">\n",
    "</colgroup>\n",
    "<thead>\n",
    "<tr><th></th>\n",
    "<th></th>\n",
    "<th><p>Built-in Functions</p></th>\n",
    "<th></th>\n",
    "<th></th>\n",
    "</tr>\n",
    "</thead>\n",
    "<tbody>\n",
    "<tr><td><p><code><span>abs()</span></code></p></td>\n",
    "<td><p><code><span>delattr()</span></code></p></td>\n",
    "<td><p><code><span>hash()</span></code></p></td>\n",
    "<td><p><code><span>memoryview()</span></code></p></td>\n",
    "<td><p><code><span>set()</span></code></p></td>\n",
    "</tr>\n",
    "<tr><td><p><code><span>all()</span></code></p></td>\n",
    "<td><p><code><span>dict()</span></code></p></td>\n",
    "<td><p><code><span>help()</span></code></p></td>\n",
    "<td><p><code><span>min()</span></code></p></td>\n",
    "<td><p><code><span>setattr()</span></code></p></td>\n",
    "</tr>\n",
    "<tr><td><p><code><span>any()</span></code></p></td>\n",
    "<td><p><code><span>dir()</span></code></p></td>\n",
    "<td><p><code><span>hex()</span></code></p></td>\n",
    "<td><p><code><span>next()</span></code></p></td>\n",
    "<td><p><code><span>slice()</span></code></p></td>\n",
    "</tr>\n",
    "<tr><td><p><code><span>ascii()</span></code></p></td>\n",
    "<td><p><code><span>divmod()</span></code></p></td>\n",
    "<td><p><code><span>id()</span></code></p></td>\n",
    "<td><p><code><span>object()</span></code></p></td>\n",
    "<td><p><code><span>sorted()</span></code></p></td>\n",
    "</tr>\n",
    "<tr><td><p><code><span>bin()</span></code></p></td>\n",
    "<td><p><code><span>enumerate()</span></code></p></td>\n",
    "<td><p><code><span>input()</span></code></p></td>\n",
    "<td><p><code><span>oct()</span></code></p></td>\n",
    "<td><p><code><span>staticmethod()</span></code></p></td>\n",
    "</tr>\n",
    "<tr><td><p><code><span>bool()</span></code></p></td>\n",
    "<td><p><code><span>eval()</span></code></p></td>\n",
    "<td><p><code><span>int()</span></code></p></td>\n",
    "<td><p><code><span>open()</span></code></p></td>\n",
    "<td><p><code><span>str()</span></code></p></td>\n",
    "</tr>\n",
    "<tr><td><p><code><span>breakpoint()</span></code></p></td>\n",
    "<td><p><code><span>exec()</span></code></p></td>\n",
    "<td><p><code><span>isinstance()</span></code></p></td>\n",
    "<td><p><code><span>ord()</span></code></p></td>\n",
    "<td><p><code><span>sum()</span></code></p></td>\n",
    "</tr>\n",
    "<tr><td><p><code><span>bytearray()</span></code></p></td>\n",
    "<td><p><code><span>filter()</span></code></p></td>\n",
    "<td><p><code><span>issubclass()</span></code></p></td>\n",
    "<td><p><code><span>pow()</span></code></p></td>\n",
    "<td><p><code><span>super()</span></code></p></td>\n",
    "</tr>\n",
    "<tr><td><p><code><span>bytes()</span></code></p></td>\n",
    "<td><p><code><span>float()</span></code></p></td>\n",
    "<td><p><code><span>iter()</span></code></p></td>\n",
    "<td><p><code><span>print()</span></code></p></td>\n",
    "<td><p><code><span>tuple()</span></code></p></td>\n",
    "</tr>\n",
    "<tr><td><p><code><span>callable()</span></code></p></td>\n",
    "<td><p><code><span>format()</span></code></p></td>\n",
    "<td><p><code><span>len()</span></code></p></td>\n",
    "<td><p><code><span>property()</span></code></p></td>\n",
    "<td><p><code><span>type()</span></code></p></td>\n",
    "</tr>\n",
    "<tr><td><p><code><span>chr()</span></code></p></td>\n",
    "<td><p><code><span>frozenset()</span></code></p></td>\n",
    "<td><p><code><span>list()</span></code></p></td>\n",
    "<td><p><code><span>range()</span></code></p></td>\n",
    "<td><p><code><span>vars()</span></code></p></td>\n",
    "</tr>\n",
    "<tr><td><p><code><span>classmethod()</span></code></p></td>\n",
    "<td><p><code><span>getattr()</span></code></p></td>\n",
    "<td><p><code><span>locals()</span></code></p></td>\n",
    "<td><p><code><span>repr()</span></code></p></td>\n",
    "<td><p><code><span>zip()</span></code></p></td>\n",
    "</tr>\n",
    "<tr><td><p><code><span>compile()</span></code></p></td>\n",
    "<td><p><code><span>globals()</span></code></p></td>\n",
    "<td><p><code><span>map()</span></code></p></td>\n",
    "<td><p><code><span>reversed()</span></code></p></td>\n",
    "<td><p><code><span>__import__()</span></code></p></td>\n",
    "</tr>\n",
    "<tr><td><p><code><span>complex()</span></code></p></td>\n",
    "<td><p><code><span>hasattr()</span></code></p></td>\n",
    "<td><p><code><span>max()</span></code></p></td>\n",
    "<td><p><code><span>round()</span></code></p></td>\n",
    "<td></td>\n",
    "</tr>\n",
    "</tbody>\n",
    "</table>\n",
    "<br>\n",
    "<center>https://docs.python.org/3/library/functions.html</center>"
   ]
  },
  {
   "cell_type": "markdown",
   "metadata": {},
   "source": [
    "### help()"
   ]
  },
  {
   "cell_type": "markdown",
   "metadata": {},
   "source": [
    "Esta función se utiliza para mostrar la documentación de un objeto en Python."
   ]
  },
  {
   "cell_type": "code",
   "execution_count": null,
   "metadata": {},
   "outputs": [],
   "source": []
  },
  {
   "cell_type": "markdown",
   "metadata": {},
   "source": [
    "### print()"
   ]
  },
  {
   "cell_type": "code",
   "execution_count": null,
   "metadata": {},
   "outputs": [],
   "source": []
  },
  {
   "cell_type": "code",
   "execution_count": null,
   "metadata": {},
   "outputs": [],
   "source": []
  },
  {
   "cell_type": "code",
   "execution_count": null,
   "metadata": {},
   "outputs": [],
   "source": []
  },
  {
   "cell_type": "code",
   "execution_count": null,
   "metadata": {},
   "outputs": [],
   "source": []
  },
  {
   "cell_type": "markdown",
   "metadata": {},
   "source": [
    "### str(), int(), float()"
   ]
  },
  {
   "cell_type": "code",
   "execution_count": null,
   "metadata": {},
   "outputs": [],
   "source": []
  },
  {
   "cell_type": "code",
   "execution_count": null,
   "metadata": {},
   "outputs": [],
   "source": []
  },
  {
   "cell_type": "code",
   "execution_count": null,
   "metadata": {},
   "outputs": [],
   "source": []
  },
  {
   "cell_type": "code",
   "execution_count": null,
   "metadata": {},
   "outputs": [],
   "source": []
  },
  {
   "cell_type": "code",
   "execution_count": null,
   "metadata": {},
   "outputs": [],
   "source": []
  },
  {
   "cell_type": "markdown",
   "metadata": {},
   "source": [
    "### type()"
   ]
  },
  {
   "cell_type": "markdown",
   "metadata": {},
   "source": [
    "Retorna el tipo del objeto que le proporcionamos como argumento."
   ]
  },
  {
   "cell_type": "code",
   "execution_count": null,
   "metadata": {},
   "outputs": [],
   "source": []
  },
  {
   "cell_type": "code",
   "execution_count": null,
   "metadata": {},
   "outputs": [],
   "source": []
  },
  {
   "cell_type": "code",
   "execution_count": null,
   "metadata": {},
   "outputs": [],
   "source": []
  },
  {
   "cell_type": "markdown",
   "metadata": {},
   "source": [
    "### id()"
   ]
  },
  {
   "cell_type": "code",
   "execution_count": null,
   "metadata": {},
   "outputs": [],
   "source": []
  },
  {
   "cell_type": "code",
   "execution_count": null,
   "metadata": {},
   "outputs": [],
   "source": []
  },
  {
   "cell_type": "code",
   "execution_count": null,
   "metadata": {},
   "outputs": [],
   "source": []
  },
  {
   "cell_type": "markdown",
   "metadata": {},
   "source": [
    "Debemos tener en cuenta que el identificador hace referencia al objeto, en este caso al string, y no a la variable a la que esta asignado."
   ]
  },
  {
   "cell_type": "code",
   "execution_count": null,
   "metadata": {},
   "outputs": [],
   "source": []
  },
  {
   "cell_type": "code",
   "execution_count": null,
   "metadata": {},
   "outputs": [],
   "source": []
  },
  {
   "cell_type": "markdown",
   "metadata": {},
   "source": [
    "### exec()"
   ]
  },
  {
   "cell_type": "code",
   "execution_count": null,
   "metadata": {},
   "outputs": [],
   "source": []
  },
  {
   "cell_type": "code",
   "execution_count": null,
   "metadata": {},
   "outputs": [],
   "source": []
  },
  {
   "cell_type": "code",
   "execution_count": null,
   "metadata": {},
   "outputs": [],
   "source": []
  }
 ],
 "metadata": {
  "kernelspec": {
   "display_name": "Python 3",
   "language": "python",
   "name": "python3"
  },
  "language_info": {
   "codemirror_mode": {
    "name": "ipython",
    "version": 3
   },
   "file_extension": ".py",
   "mimetype": "text/x-python",
   "name": "python",
   "nbconvert_exporter": "python",
   "pygments_lexer": "ipython3",
   "version": "3.8.5"
  }
 },
 "nbformat": 4,
 "nbformat_minor": 4
}
