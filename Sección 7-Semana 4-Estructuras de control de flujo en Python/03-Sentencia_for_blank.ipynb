{
 "cells": [
  {
   "cell_type": "markdown",
   "metadata": {},
   "source": [
    "# Sentencia `for`"
   ]
  },
  {
   "cell_type": "markdown",
   "metadata": {},
   "source": [
    "### 1. ¿Qué es la sentencia `for`?"
   ]
  },
  {
   "cell_type": "markdown",
   "metadata": {},
   "source": [
    "La sentencia de control de flujo `for` es otra de las estructuras fundamentales de cualquier lenguaje de programación, incluido Python. \n",
    "\n",
    "**Esta estructura nos permite implementar sentencias en Python que se repitan un número finito de veces. Por esta razón a este tipo de sentencias se les denomina bucles.**\n",
    "\n",
    "La sintaxis utilizada para definir la sentencia `for` es la siguiente:\n",
    "```\n",
    "for <variable> in <iterable>:\n",
    "    <sentencia(s)>\n",
    "```\n",
    "  \n",
    "`<iterable>` es una colección de elementos, por ejemplo, una lista o una tupla.\n",
    "\n",
    "`<variable>` es una variable que recibirá uno de los elementos del objeto `<iterable>` en cada una de las itreaciones.\n",
    "\n",
    "`<sentencia(s)>` es el bloque de sentencias en Python que se ejecutará repetidamente."
   ]
  },
  {
   "cell_type": "code",
   "execution_count": null,
   "metadata": {},
   "outputs": [],
   "source": []
  },
  {
   "cell_type": "code",
   "execution_count": null,
   "metadata": {},
   "outputs": [],
   "source": []
  },
  {
   "cell_type": "markdown",
   "metadata": {},
   "source": [
    "### 2. Objetos iterables"
   ]
  },
  {
   "cell_type": "markdown",
   "metadata": {},
   "source": [
    "En Python los iterables, como su propio nombre indica, son objetos que pueden utilizarse para realizar iteraciones. \n",
    "\n",
    "Si un objeto es iterable, podemos pasarlo como argumento a la función por defecto de Python `iter()` y nos devolverá un **iterador**."
   ]
  },
  {
   "cell_type": "code",
   "execution_count": null,
   "metadata": {},
   "outputs": [],
   "source": []
  },
  {
   "cell_type": "code",
   "execution_count": null,
   "metadata": {},
   "outputs": [],
   "source": []
  },
  {
   "cell_type": "code",
   "execution_count": null,
   "metadata": {},
   "outputs": [],
   "source": []
  },
  {
   "cell_type": "code",
   "execution_count": null,
   "metadata": {},
   "outputs": [],
   "source": []
  },
  {
   "cell_type": "markdown",
   "metadata": {},
   "source": [
    "<div style=\"background-color:#D9EEFF;color:black;padding:2%;\">\n",
    "Como puedes observar, los tipos de datos string, lista, tupla, diccionario, set o frozenset son objetos iterables.\n",
    "</div>"
   ]
  },
  {
   "cell_type": "markdown",
   "metadata": {},
   "source": [
    "#### 2.1. Iteradores"
   ]
  },
  {
   "cell_type": "markdown",
   "metadata": {},
   "source": [
    "Un iterador se va a corresponder con un objeto dentro de Python que nos va a devolver valores uno a uno cuando utilicemos la función `next()` que viene implementada por defecto."
   ]
  },
  {
   "cell_type": "code",
   "execution_count": null,
   "metadata": {},
   "outputs": [],
   "source": []
  },
  {
   "cell_type": "code",
   "execution_count": null,
   "metadata": {},
   "outputs": [],
   "source": []
  },
  {
   "cell_type": "code",
   "execution_count": null,
   "metadata": {},
   "outputs": [],
   "source": []
  },
  {
   "cell_type": "code",
   "execution_count": null,
   "metadata": {},
   "outputs": [],
   "source": []
  },
  {
   "cell_type": "code",
   "execution_count": null,
   "metadata": {},
   "outputs": [],
   "source": []
  },
  {
   "cell_type": "markdown",
   "metadata": {},
   "source": [
    "Una cosa interesante que debemos tener en cuenta es que un iterador alamacena internamente el punto en el que se encuentra a la hora de devolverte los valores, de manera que cuando invocamos la función `next()` sabe que elemento devolver."
   ]
  },
  {
   "cell_type": "code",
   "execution_count": null,
   "metadata": {},
   "outputs": [],
   "source": []
  },
  {
   "cell_type": "markdown",
   "metadata": {},
   "source": [
    "Cuando no quedan elementos para devolver, el iterador emite una excepción:"
   ]
  },
  {
   "cell_type": "code",
   "execution_count": null,
   "metadata": {},
   "outputs": [],
   "source": []
  },
  {
   "cell_type": "markdown",
   "metadata": {},
   "source": [
    "<div style=\"background-color:#D9EEFF;color:black;padding:2%;\">\n",
    "Entendiendo este concepto de iterador, puede entenderse mucho mejor el concepto de bucle for, pensando en él como una estructura que automáticamente genera una iterador a partir de un elemento iterable y llama repetidamente al método next() asignando el resultado a una variable hasta que no quedan elementos.\n",
    "</div>"
   ]
  },
  {
   "cell_type": "markdown",
   "metadata": {},
   "source": [
    "### 3. Claúsula `else` en un bucle `for`"
   ]
  },
  {
   "cell_type": "markdown",
   "metadata": {},
   "source": [
    "Un bucle `for` también puede tener una cláusula `else`. La cláusula `else` se ejecutará cuando el iterador emita una excepción debido a que no quedan más elementos."
   ]
  },
  {
   "cell_type": "code",
   "execution_count": null,
   "metadata": {},
   "outputs": [],
   "source": []
  },
  {
   "cell_type": "markdown",
   "metadata": {},
   "source": [
    "### 4. Range"
   ]
  },
  {
   "cell_type": "markdown",
   "metadata": {},
   "source": [
    "Para terminar con esta sección sobre la sentencia `for`, me gustaría presentar una función que viene por defecto en Python que se utiliza de manera muy frecuente en combinación con los bucles, la función `range()` "
   ]
  },
  {
   "cell_type": "code",
   "execution_count": null,
   "metadata": {},
   "outputs": [],
   "source": []
  },
  {
   "cell_type": "code",
   "execution_count": null,
   "metadata": {},
   "outputs": [],
   "source": []
  },
  {
   "cell_type": "code",
   "execution_count": null,
   "metadata": {},
   "outputs": [],
   "source": []
  },
  {
   "cell_type": "code",
   "execution_count": null,
   "metadata": {},
   "outputs": [],
   "source": []
  },
  {
   "cell_type": "markdown",
   "metadata": {},
   "source": [
    "Una de las cosas que podemos hacer es marcar el principio y el final de la secuencia."
   ]
  },
  {
   "cell_type": "code",
   "execution_count": null,
   "metadata": {},
   "outputs": [],
   "source": []
  },
  {
   "cell_type": "markdown",
   "metadata": {},
   "source": [
    "La función `range()` también admite aplicar el concepto de stride."
   ]
  },
  {
   "cell_type": "code",
   "execution_count": null,
   "metadata": {},
   "outputs": [],
   "source": []
  },
  {
   "cell_type": "markdown",
   "metadata": {},
   "source": [
    "<div style=\"background-color:#D9EEFF;color:black;padding:2%;\">\n",
    "El potencial de esta función no es utilizarla junto con la función list(), ya que consume muchos recursos computacionales, sino combinarla con estructura de control de flujo como el bucle for\n",
    "</div>"
   ]
  },
  {
   "cell_type": "code",
   "execution_count": null,
   "metadata": {},
   "outputs": [],
   "source": []
  },
  {
   "cell_type": "code",
   "execution_count": null,
   "metadata": {},
   "outputs": [],
   "source": []
  }
 ],
 "metadata": {
  "kernelspec": {
   "display_name": "Python 3",
   "language": "python",
   "name": "python3"
  },
  "language_info": {
   "codemirror_mode": {
    "name": "ipython",
    "version": 3
   },
   "file_extension": ".py",
   "mimetype": "text/x-python",
   "name": "python",
   "nbconvert_exporter": "python",
   "pygments_lexer": "ipython3",
   "version": "3.8.5"
  }
 },
 "nbformat": 4,
 "nbformat_minor": 4
}
